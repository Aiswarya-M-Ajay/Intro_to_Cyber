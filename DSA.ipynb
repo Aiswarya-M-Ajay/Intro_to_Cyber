{
  "nbformat": 4,
  "nbformat_minor": 0,
  "metadata": {
    "colab": {
      "provenance": []
    },
    "kernelspec": {
      "name": "python3",
      "display_name": "Python 3"
    },
    "language_info": {
      "name": "python"
    }
  },
  "cells": [
    {
      "cell_type": "markdown",
      "source": [
        "**DSA(Digital Signature Algorithm)**.\n",
        "\n",
        "DSA is a cryptographic algorithm used to generate digital signatures, authenticate the sender of a digital message, and prevent message tampering. DSA works by having two keys: a private key owned by the sender and a public key held by the receiver.Import Libraries:\n",
        "We import the necessary libraries for DSA, including Crypto.PublicKey.DSA, Crypto.Signature.DSS, and Crypto.Hash.SHA256.\n",
        "Generate DSA Keys:\n",
        "The function generate_dsa_keys() is defined to generate a DSA key pair with a key size of 2048 bits using the DSA.generate() method.\n",
        "This function returns the generated DSA key pair.\n",
        "DSA Signing:\n",
        "The function dsa_sign(message, private_key) is defined for signing a message using DSA.\n",
        "Inside this function, a SHA-256 hash object is created for the input message using SHA256.new().\n",
        "Then, a DSS object is created for signing using the private key and the FIPS 186-3 standard.\n",
        "The signature is computed using signer.sign(hash_obj).\n",
        "DSA Verification:\n",
        "The function dsa_verify(message, signature, public_key) is defined for verifying a DSA signature.\n",
        "Similar to signing, a SHA-256 hash object is created for the input message.\n",
        "Then, a DSS object is created for verification using the public key and the FIPS 186-3 standard.\n",
        "The verifier.verify(hash_obj, signature) method is used to verify the signature against the message. If verification fails, a ValueError is raised.\n",
        "Generate Keys and Perform Signing/Verification:\n",
        "We generate a DSA key pair using generate_dsa_keys().\n",
        "A message (b\"Hello, DSA!\") is defined for signing.\n",
        "The message is signed using the dsa_sign() function, and the signature is obtained.\n",
        "The signature is then verified using the dsa_verify() function with the public key extracted from the key pair.\n",
        "The original message, signature, and verification result are printed to verify the signing and verification processes."
      ],
      "metadata": {
        "id": "RUYD7wJcHLPo"
      }
    },
    {
      "cell_type": "code",
      "source": [
        "from Crypto.PublicKey import DSA\n",
        "from Crypto.Signature import DSS\n",
        "from Crypto.Hash import SHA256\n",
        "\n",
        "def generate_dsa_keys():\n",
        "    key = DSA.generate(2048)\n",
        "    return key\n",
        "\n",
        "def dsa_sign(message, private_key):\n",
        "    hash_obj = SHA256.new(message)\n",
        "    signer = DSS.new(private_key, 'fips-186-3')\n",
        "    signature = signer.sign(hash_obj)\n",
        "    return signature\n",
        "\n",
        "def dsa_verify(message, signature, public_key):\n",
        "    hash_obj = SHA256.new(message)\n",
        "    verifier = DSS.new(public_key, 'fips-186-3')\n",
        "    try:\n",
        "        verifier.verify(hash_obj, signature)\n",
        "        return True\n",
        "    except ValueError:\n",
        "        return False\n",
        "\n",
        "\n",
        "key = generate_dsa_keys()\n",
        "message = b\"Hello, DSA!\"\n",
        "\n",
        "signature = dsa_sign(message, key)\n",
        "verified = dsa_verify(message, signature, key.publickey())\n",
        "\n",
        "print(\"Original Message:\", message)\n",
        "print(\"Signature:\", signature)\n",
        "print(\"Verified:\", verified)"
      ],
      "metadata": {
        "id": "XqFCgejxHgYN",
        "outputId": "47ad1fa7-a10d-434d-bfd3-f3d762af4317",
        "colab": {
          "base_uri": "https://localhost:8080/"
        }
      },
      "execution_count": null,
      "outputs": [
        {
          "output_type": "stream",
          "name": "stdout",
          "text": [
            "Original Message: b'Hello, DSA!'\n",
            "Signature: b'8\\xc4\\x8a\\xdc\\xa2\\xa4\\x1do\\x83qaC\\xea\\xc9\\xd8\\xcd!r+\\n\\x1e\\xfb\\x90\\xc6p\\x9aV\\xb3\\x83,\\xba\\xc2\\x8e\\xcf3%\\x83\\r\\xf0\\xb5\\x10\\xba-\\xf7\\xee\\xcbG@Ah\\xbf\\xfc\\xaeD\\x11\\xf9'\n",
            "Verified: True\n"
          ]
        }
      ]
    }
  ]
}