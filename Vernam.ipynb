{
  "nbformat": 4,
  "nbformat_minor": 0,
  "metadata": {
    "colab": {
      "provenance": []
    },
    "kernelspec": {
      "name": "python3",
      "display_name": "Python 3"
    },
    "language_info": {
      "name": "python"
    }
  },
  "cells": [
    {
      "cell_type": "markdown",
      "source": [
        "Vernam Cipher\n",
        "\n",
        "The Vernam cipher, also known as the one-time pad, is a symmetric encryption algorithm where each character in the plaintext is XORed with a corresponding character in a secret key of the same length. The key is random, and as long as the plaintext, and it is used only once. Because of its properties, if used correctly, the Vernam cipher is unbreakable. However, its main limitation is the requirement for a truly random key as long as the plaintext, which makes key management challenging.To generate a random key I've taken a initial key of 4 bits(b_values) .Then a for loop is made to iterate upto the length of the plaintext.If i+1 gives a remainder zero when divided by 4,Rn is xor of first and third bit.Else,Rn is xor of second and remainder of i divided by 4.and output of each iteration is joined.So ,basically the key would be repeatation of 1010(based on plain text).This is simplest key generation technique .You can use various techniques."
      ],
      "metadata": {
        "id": "kFJre3KQL3Cz"
      }
    },
    {
      "cell_type": "code",
      "source": [
        "def key_gen(n):\n",
        "    key = \"\"\n",
        "    b_values = [1, 0, 1, 1]\n",
        "    for i in range(n):\n",
        "        if (i + 1) % 4 == 0:\n",
        "            Rn = b_values[0] ^ b_values[2]\n",
        "        else:\n",
        "            Rn = b_values[1] ^ b_values[i % 4]\n",
        "        key += str(Rn)\n",
        "    return key\n",
        "\n",
        "def vignere(plaintext, key):\n",
        "    ciphertext = \"\"\n",
        "    for i in range(len(plaintext)):\n",
        "        ciphertext += chr(ord(plaintext[i]) ^ int(key[i]))\n",
        "    return ciphertext\n",
        "\n",
        "def vignere_decrypt(ciphertext, key):\n",
        "    plaintext = \"\"\n",
        "    for i in range(len(ciphertext)):\n",
        "        plaintext += chr(ord(ciphertext[i]) ^ int(key[i]))\n",
        "    return plaintext\n",
        "\n",
        "a = '10110101'\n",
        "print(\"Plain text :\",a)\n",
        "key = key_gen(len(a))\n",
        "print(\"Generated key:\", key)\n",
        "ciphertext = vignere(a, key)\n",
        "print(\"Cipher text:\", ciphertext)\n",
        "plaintext = vignere_decrypt(ciphertext,key)\n",
        "print(\"Decrypted text:\", plaintext)"
      ],
      "metadata": {
        "colab": {
          "base_uri": "https://localhost:8080/"
        },
        "id": "tQadA3fiL4c2",
        "outputId": "5c0f7419-4762-4547-92c7-d71a51c13ca2"
      },
      "execution_count": null,
      "outputs": [
        {
          "output_type": "stream",
          "name": "stdout",
          "text": [
            "Plain text : 10110101\n",
            "Generated key: 10101010\n",
            "Cipher text: 00011111\n",
            "Decrypted text: 10110101\n"
          ]
        }
      ]
    }
  ]
}