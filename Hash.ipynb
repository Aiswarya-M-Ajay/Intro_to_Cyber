{
  "nbformat": 4,
  "nbformat_minor": 0,
  "metadata": {
    "colab": {
      "provenance": []
    },
    "kernelspec": {
      "name": "python3",
      "display_name": "Python 3"
    },
    "language_info": {
      "name": "python"
    }
  },
  "cells": [
    {
      "cell_type": "markdown",
      "source": [
        "**Hash function**\n",
        "\n",
        "A Hash function is a function that maps any kind of data of arbitrary size to fixed-size values. The values returned by the function are called Hash Values or digests. There are many popular Hash Functions such as DJBX33A, MD5, and SHA-256.SHA-256 Hashing:\n",
        "The sha256_hash(message) function is defined to compute the SHA-256 hash of a given message.\n",
        "Inside this function, a hashlib.sha256() object is created to represent the SHA-256 hash algorithm.\n",
        "The update(message) method of the hash object is called to update the hash with the bytes of the message.\n",
        "Finally, the digest() method is called to obtain the hash value as bytes, which is returned by the function.\n",
        "Usage of SHA-256 Hashing:\n",
        "A message b\"Hello, SHA-256!\" is defined.\n",
        "The sha256_hash() function is called with this message to compute its SHA-256 hash.\n",
        "The computed hash value is printed in hexadecimal format using hash_value.hex().\n",
        "Custom Hash Function:\n",
        "The hash_function(string) function is defined to compute a custom hash value for a given string.\n",
        "Inside this function, the hash value is initialized to 0.\n",
        "For each character in the input string, the hash value is XORed with the ordinal value (ASCII value) of the character.\n",
        "The resulting hash value is returned.\n",
        "Usage of Custom Hash Function:\n",
        "A sample input string \"You are so beautiful\" is defined.\n",
        "The hash_function() is called with this input string to compute its custom hash value.\n",
        "The computed hash value is printed."
      ],
      "metadata": {
        "id": "ZwG1BcApIbQV"
      }
    },
    {
      "cell_type": "code",
      "source": [
        "import hashlib\n",
        "\n",
        "def sha256_hash(message):\n",
        "    hash_obj = hashlib.sha256()\n",
        "    hash_obj.update(message)\n",
        "    return hash_obj.digest()\n",
        "\n",
        "\n",
        "message = b\"Hello, SHA-256!\"\n",
        "hash_value = sha256_hash(message)\n",
        "\n",
        "print(\"Message:\", message)\n",
        "print(\"SHA-256 Hash:\", hash_value.hex())\n",
        "\n",
        "print()\n",
        "print()\n",
        "print()\n",
        "\n",
        "\n",
        "\n",
        "def hash_function(string):\n",
        "    hash_value = 0\n",
        "    for char in string:\n",
        "        hash_value ^= ord(char)\n",
        "\n",
        "    return hash_value\n",
        "input_string = \"You are so beautiful\"\n",
        "hash_value = hash_function(input_string)\n",
        "print(f\"The hash of '{input_string}' is: {hash_value}\")"
      ],
      "metadata": {
        "id": "kTIMaIqSI7-5",
        "outputId": "ee95a7d0-3c4d-4a1e-bd2e-04551e6f0b6d",
        "colab": {
          "base_uri": "https://localhost:8080/"
        }
      },
      "execution_count": null,
      "outputs": [
        {
          "output_type": "stream",
          "name": "stdout",
          "text": [
            "Message: b'Hello, SHA-256!'\n",
            "SHA-256 Hash: d0e8b8f11c98f369016eb2ed3c541e1f01382f9d5b3104c9ffd06b6175a46271\n",
            "\n",
            "\n",
            "\n",
            "The hash of 'You are so beautiful' is: 120\n"
          ]
        }
      ]
    }
  ]
}