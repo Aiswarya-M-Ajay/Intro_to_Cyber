{
  "nbformat": 4,
  "nbformat_minor": 0,
  "metadata": {
    "colab": {
      "provenance": []
    },
    "kernelspec": {
      "name": "python3",
      "display_name": "Python 3"
    },
    "language_info": {
      "name": "python"
    }
  },
  "cells": [
    {
      "cell_type": "markdown",
      "source": [
        "DES (Data Encryption Standard)\n",
        "\n",
        "DES is a symmetric-key block cipher encryption algorithm .In the first step, the 64-bit plain text block is handed over to an initial Permutation (IP) function.The initial permutation is performed on plain text.Next, the initial permutation (IP) produces two halves of the permuted block; saying Left Plain Text (LPT) and Right Plain Text (RPT).Now each LPT and RPT go through 16 rounds of the encryption process.In the end, LPT and RPT are rejoined and a Final Permutation (FP) is performed on the combined blockThe result of this process produces 64-bit ciphertext."
      ],
      "metadata": {
        "id": "7Xlpe3MlQ_fy"
      }
    },
    {
      "cell_type": "code",
      "source": [
        "pip install pycryptodome"
      ],
      "metadata": {
        "colab": {
          "base_uri": "https://localhost:8080/"
        },
        "id": "kI57Q-vMRBsY",
        "outputId": "975b8423-7afb-4378-ce4d-4c054caf726e"
      },
      "execution_count": 1,
      "outputs": [
        {
          "output_type": "stream",
          "name": "stdout",
          "text": [
            "Collecting pycryptodome\n",
            "  Downloading pycryptodome-3.20.0-cp35-abi3-manylinux_2_17_x86_64.manylinux2014_x86_64.whl (2.1 MB)\n",
            "\u001b[2K     \u001b[90m━━━━━━━━━━━━━━━━━━━━━━━━━━━━━━━━━━━━━━━━\u001b[0m \u001b[32m2.1/2.1 MB\u001b[0m \u001b[31m9.6 MB/s\u001b[0m eta \u001b[36m0:00:00\u001b[0m\n",
            "\u001b[?25hInstalling collected packages: pycryptodome\n",
            "Successfully installed pycryptodome-3.20.0\n"
          ]
        }
      ]
    },
    {
      "cell_type": "code",
      "source": [
        "from Crypto.Cipher import DES\n",
        "from Crypto.Random import get_random_bytes\n",
        "from Crypto.Util.Padding import pad, unpad\n",
        "import binascii\n",
        "\n",
        "def des_encrypt(plain_text, key):\n",
        "    cipher = DES.new(key.encode(), DES.MODE_ECB)\n",
        "    padded_text = pad(plain_text.encode(), DES.block_size)\n",
        "    encrypted_text = cipher.encrypt(padded_text)\n",
        "    return binascii.hexlify(encrypted_text).decode()\n",
        "\n",
        "def des_decrypt(cipher_text, key):\n",
        "    cipher = DES.new(key.encode(), DES.MODE_ECB)\n",
        "    cipher_text = binascii.unhexlify(cipher_text)\n",
        "    decrypted_text = cipher.decrypt(cipher_text)\n",
        "    unpadded_text = unpad(decrypted_text, DES.block_size)\n",
        "    return unpadded_text.decode()\n",
        "\n",
        "def main():\n",
        "    pt = \"123456ABCD132536\"\n",
        "    key = \"AABB0918\"\n",
        "    print(\"Plain Text:\",pt)\n",
        "\n",
        "    cipher_text = des_encrypt(pt, key)\n",
        "    print(\"Cipher Text:\", cipher_text)\n",
        "\n",
        "    decrypted_text = des_decrypt(cipher_text, key)\n",
        "    print(\"Decrypted Text:\", decrypted_text)\n",
        "\n",
        "if __name__ == \"__main__\":\n",
        "    main()"
      ],
      "metadata": {
        "colab": {
          "base_uri": "https://localhost:8080/"
        },
        "id": "Dlo3A7z0RTVm",
        "outputId": "cfa3e75c-7ad1-4fcd-87bb-b539bcd9b836"
      },
      "execution_count": 3,
      "outputs": [
        {
          "output_type": "stream",
          "name": "stdout",
          "text": [
            "Plain Text: 123456ABCD132536\n",
            "Cipher Text: 2a6499a1befe9363e06efa8e64448e81f707c55faa36dbc2\n",
            "Decrypted Text: 123456ABCD132536\n"
          ]
        }
      ]
    }
  ]
}