{
  "nbformat": 4,
  "nbformat_minor": 0,
  "metadata": {
    "colab": {
      "provenance": []
    },
    "kernelspec": {
      "name": "python3",
      "display_name": "Python 3"
    },
    "language_info": {
      "name": "python"
    }
  },
  "cells": [
    {
      "cell_type": "markdown",
      "source": [
        "**RSA(Rivest–Shamir–Adleman)**\n",
        "\n",
        "RSA algorithm is an asymmetric cryptography algorithm. Asymmetric actually means that it works on two different keys i.e. Public Key and Private Key. As the name describes that the Public Key is given to everyone and the Private key is kept private.The steps of RSA are given below.\n",
        "Step 1: Import the  Crypto.PublicKey.RSA for generating RSA keys and Crypto.Cipher.PKCS1_OAEP for RSA encryption and decryption.\n",
        "Step 2: Generate an RSA key pair with a key size of 2048 bits using the RSA.generate() method. This method returns an RSA key object.\n",
        "Step 3: Extract the public key from the generated key pair using the publickey() method. This public key will be used for encryption.\n",
        "Step 4: Use the public key to encrypt a message using the rsa_encrypt() function. This function initializes a new PKCS1_OAEP cipher object with the public key and encrypts the message.\n",
        "Step 5: Use the private key to decrypt the encrypted message using the rsa_decrypt() function. This function initializes a new PKCS1_OAEP cipher object with the private key and decrypts the ciphertext.\n",
        "\n"
      ],
      "metadata": {
        "id": "3YPbvwo_Bmpf"
      }
    },
    {
      "cell_type": "code",
      "source": [
        "from Crypto.PublicKey import RSA\n",
        "from Crypto.Cipher import PKCS1_OAEP\n",
        "\n",
        "def rsa_encrypt(message, public_key):\n",
        "    cipher = PKCS1_OAEP.new(public_key)\n",
        "    ciphertext = cipher.encrypt(message)\n",
        "    return ciphertext\n",
        "\n",
        "def rsa_decrypt(ciphertext, private_key):\n",
        "    cipher = PKCS1_OAEP.new(private_key)\n",
        "    decrypted_message = cipher.decrypt(ciphertext)\n",
        "    return decrypted_message\n",
        "\n",
        "\n",
        "key = RSA.generate(2048)\n",
        "public_key = key.publickey()\n",
        "private_key = key\n",
        "\n",
        "message = b\"Hello, RSA!\"\n",
        "encrypted_message = rsa_encrypt(message, public_key)\n",
        "decrypted_message = rsa_decrypt(encrypted_message, private_key)\n",
        "\n",
        "print(\"Original Message:\", message)\n",
        "print(\"Encrypted Message:\", encrypted_message)\n",
        "print(\"Decrypted Message:\", decrypted_message)"
      ],
      "metadata": {
        "id": "UGp0UqO-Elzn",
        "outputId": "6b4edece-ae68-441d-a2b6-546f136e0033",
        "colab": {
          "base_uri": "https://localhost:8080/"
        }
      },
      "execution_count": null,
      "outputs": [
        {
          "output_type": "stream",
          "name": "stdout",
          "text": [
            "Original Message: b'Hello, RSA!'\n",
            "Encrypted Message: b\"\\xd0\\xe0%\\x1e='j\\xa8\\x9c\\xc4\\xb4\\xdc\\xf74\\xcbLFV\\xaf\\xfee\\xb0\\xc5\\x011\\xeb\\x96\\xce*\\xed\\x9ct\\xadN\\x9f\\xb9\\x8bA\\xdf\\xcd\\x10P(E\\xb1\\xa0\\x8d\\xde\\xdc?\\xcfm\\x9f\\xdb#[\\x07\\x1d\\xf8G\\xdd|.k}\\xaaa\\xc6bOz\\xc1\\xdb8\\xd5\\x9d\\x074G`x\\xf3\\xc7!\\xe1(\\xf3w'\\xac\\x83\\xdb\\x03W#Y\\xb9\\x83\\xbb$\\x81\\x9f\\r^<\\xb0\\x04+8\\x92\\xfa-\\x83\\xdeC6\\xb9\\x85\\x03\\xd1\\x04\\x00 e\\xf0\\n\\xe6\\xc1\\x03\\xeb\\x81\\x8b\\xa8d\\x0cF\\xcb\\xd4\\xca\\x93\\xdaK,\\x97\\xd0\\x08q\\xe2\\xf4\\x92\\x9a\\x17h\\xb6\\xbc\\x11\\tV\\xc7\\xb7\\xa5e\\xbc\\xfeT\\xfb\\x1d\\x18\\xf1\\xc6\\xb1>\\x89\\x9b\\xa3\\xb6p\\xa9\\xd0\\x7f\\x1a\\x18:i1\\x87\\xdc\\xe0hU\\xd5S\\x8c\\xebF]\\xcd\\xfaa\\xb1\\x9e\\x96\\xe7M\\xf5\\xc2Bc{\\xcc\\xdb|\\x7f\\xfc\\xfb\\x1e~*\\x8a\\xd6\\x16\\xcd\\xcf\\xad?\\xf1LO\\xefc\\xdf\\xcf\\x06\\xa9\\x1c\\x88 D\\r\\x7f\\xf23\\x15\\xfe+\\xe7\\x84n\\xe3`P\\xfe$\\x00\\x93j\"\n",
            "Decrypted Message: b'Hello, RSA!'\n"
          ]
        }
      ]
    }
  ]
}